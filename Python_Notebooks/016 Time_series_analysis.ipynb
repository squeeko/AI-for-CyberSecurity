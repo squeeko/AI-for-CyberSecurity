{
  "nbformat": 4,
  "nbformat_minor": 0,
  "metadata": {
    "colab": {
      "name": "Time series analysis.ipynb",
      "provenance": []
    },
    "kernelspec": {
      "name": "python3",
      "display_name": "Python 3"
    },
    "language_info": {
      "name": "python"
    }
  },
  "cells": [
    {
      "cell_type": "markdown",
      "metadata": {
        "id": "PBgfAbXZD7EI"
      },
      "source": [
        "A time series is a series of values obtained at successive times. For example, the price of the stock market sampled every minute froms a time series.\n",
        "\n",
        "In cyber security, time series analysis can be very handy for predicting a cyber attack, such as an insider employee exfiltrating data or a group of hackers colluding in preparation for their next hit.\n",
        "\n"
      ]
    },
    {
      "cell_type": "code",
      "metadata": {
        "colab": {
          "base_uri": "https://localhost:8080/"
        },
        "id": "1c5xCP7hDiF_",
        "outputId": "8a2e34b7-543b-48e1-b199-9730adabc34c"
      },
      "source": [
        "!pip install statsmodels scipy"
      ],
      "execution_count": 1,
      "outputs": [
        {
          "output_type": "stream",
          "text": [
            "Requirement already satisfied: statsmodels in /usr/local/lib/python3.7/dist-packages (0.10.2)\n",
            "Requirement already satisfied: scipy in /usr/local/lib/python3.7/dist-packages (1.4.1)\n",
            "Requirement already satisfied: numpy>=1.11 in /usr/local/lib/python3.7/dist-packages (from statsmodels) (1.19.5)\n",
            "Requirement already satisfied: pandas>=0.19 in /usr/local/lib/python3.7/dist-packages (from statsmodels) (1.1.5)\n",
            "Requirement already satisfied: patsy>=0.4.0 in /usr/local/lib/python3.7/dist-packages (from statsmodels) (0.5.1)\n",
            "Requirement already satisfied: pytz>=2017.2 in /usr/local/lib/python3.7/dist-packages (from pandas>=0.19->statsmodels) (2018.9)\n",
            "Requirement already satisfied: python-dateutil>=2.7.3 in /usr/local/lib/python3.7/dist-packages (from pandas>=0.19->statsmodels) (2.8.1)\n",
            "Requirement already satisfied: six in /usr/local/lib/python3.7/dist-packages (from patsy>=0.4.0->statsmodels) (1.15.0)\n"
          ],
          "name": "stdout"
        }
      ]
    },
    {
      "cell_type": "code",
      "metadata": {
        "id": "HPgCsOvYEkGZ"
      },
      "source": [
        "# Begin by generating a time series\n",
        "from random import random\n",
        "time_series = [2*x+random() for x in range(1,100)]"
      ],
      "execution_count": 2,
      "outputs": []
    },
    {
      "cell_type": "code",
      "metadata": {
        "colab": {
          "base_uri": "https://localhost:8080/",
          "height": 265
        },
        "id": "mmv_8GYbEzvR",
        "outputId": "9f500521-2cdc-41d6-823f-c91f28a0663b"
      },
      "source": [
        "# plot our data\n",
        "%matplotlib inline\n",
        "import matplotlib.pyplot as plt\n",
        "plt.plot(time_series)\n",
        "plt.show()"
      ],
      "execution_count": 3,
      "outputs": [
        {
          "output_type": "display_data",
          "data": {
            "image/png": "[encoded data removed]",
            "text/plain": [
              "<Figure size 432x288 with 1 Axes>"
            ]
          },
          "metadata": {
            "tags": [],
            "needs_background": "light"
          }
        }
      ]
    },
    {
      "cell_type": "code",
      "metadata": {
        "colab": {
          "base_uri": "https://localhost:8080/"
        },
        "id": "G6rOqRCiFAD-",
        "outputId": "c7aa3623-f6a3-4dc0-8449-03e354afcb7d"
      },
      "source": [
        "# Autoregression (AR):\n",
        "from statsmodels.tsa.ar_model import AR\n",
        "model = AR(time_series)\n",
        "model_fit = model.fit()\n",
        "y= model_fit.predict(len(time_series), len(time_series))\n",
        "print(y)"
      ],
      "execution_count": 6,
      "outputs": [
        {
          "output_type": "stream",
          "text": [
            "[200.54473894]\n"
          ],
          "name": "stdout"
        }
      ]
    },
    {
      "cell_type": "code",
      "metadata": {
        "colab": {
          "base_uri": "https://localhost:8080/"
        },
        "id": "pO-Z-wKBFaoq",
        "outputId": "b23422cf-b93b-479b-c466-3364d25b2bc0"
      },
      "source": [
        "#Moving average (MA)\n",
        "from statsmodels.tsa.arima_model import ARMA\n",
        "model = ARMA(time_series, order=(0,1))\n",
        "model_fit = model.fit(disp=False)\n",
        "y= model_fit.predict(len(time_series),len(time_series))\n",
        "print(y)"
      ],
      "execution_count": 7,
      "outputs": [
        {
          "output_type": "stream",
          "text": [
            "[147.56425101]\n"
          ],
          "name": "stdout"
        }
      ]
    },
    {
      "cell_type": "code",
      "metadata": {
        "colab": {
          "base_uri": "https://localhost:8080/"
        },
        "id": "ZGpFWK6lFyLM",
        "outputId": "8b04394f-1cdf-4548-eed1-45952bdcfd76"
      },
      "source": [
        "# Simple exponential smoothing (SES)\n",
        "from statsmodels.tsa.holtwinters import SimpleExpSmoothing\n",
        "model = SimpleExpSmoothing(time_series)\n",
        "model_fit = model.fit()\n",
        "y= model_fit.predict(len(time_series),len(time_series))\n",
        "print(y)"
      ],
      "execution_count": 9,
      "outputs": [
        {
          "output_type": "stream",
          "text": [
            "[198.55005779]\n"
          ],
          "name": "stdout"
        }
      ]
    }
  ]
}