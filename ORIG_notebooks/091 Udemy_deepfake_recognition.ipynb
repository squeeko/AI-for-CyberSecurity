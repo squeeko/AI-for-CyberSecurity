{
  "nbformat": 4,
  "nbformat_minor": 0,
  "metadata": {
    "colab": {
      "name": "Udemy deepfake recognition.ipynb",
      "provenance": []
    },
    "kernelspec": {
      "name": "python3",
      "display_name": "Python 3"
    },
    "language_info": {
      "name": "python"
    },
    "accelerator": "GPU"
  },
  "cells": [
    {
      "cell_type": "markdown",
      "metadata": {
        "id": "xouvpoMfoDk0"
      },
      "source": [
        "With the advent of deepfake and similar image forgery technology. It is becoming more and more difficult to differentiate between forgery and real media. Fortunately, just as neural networks can compose fake meida, they can also detect it. \n",
        "\n",
        "In this project, we will utilize a deep neural network to detect fake images."
      ]
    },
    {
      "cell_type": "code",
      "metadata": {
        "colab": {
          "base_uri": "https://localhost:8080/"
        },
        "id": "_XPF6CMnmkjl",
        "outputId": "2aebb337-e274-42d3-908f-e0a0c99665a3"
      },
      "source": [
        "from google.colab import drive\n",
        "drive.mount('/content/drive')"
      ],
      "execution_count": 1,
      "outputs": [
        {
          "output_type": "stream",
          "text": [
            "Mounted at /content/drive\n"
          ],
          "name": "stdout"
        }
      ]
    },
    {
      "cell_type": "code",
      "metadata": {
        "colab": {
          "base_uri": "https://localhost:8080/"
        },
        "id": "jSRHdKCemrfQ",
        "outputId": "14d02220-ed87-4747-e710-9c3987c32ab6"
      },
      "source": [
        "%cd /content/drive/My Drive/Colab Notebooks"
      ],
      "execution_count": 2,
      "outputs": [
        {
          "output_type": "stream",
          "text": [
            "/content/drive/My Drive/Colab Notebooks\n"
          ],
          "name": "stdout"
        }
      ]
    },
    {
      "cell_type": "code",
      "metadata": {
        "id": "rB3kJ0WKonwT"
      },
      "source": [
        "#mesonet_classifiers.py\n",
        "from mesonet_classifiers import *\n",
        "from keras_preprocessing.image import ImageDataGenerator"
      ],
      "execution_count": 3,
      "outputs": []
    },
    {
      "cell_type": "code",
      "metadata": {
        "id": "4j4nXU-NpMjY"
      },
      "source": [
        "# Instantiate mesoNet and load its weights\n",
        "MesoNet_classifier = Meso4()\n",
        "MesoNet_classifier.load(\"mesonet_weights/Meso4_DF\")"
      ],
      "execution_count": 4,
      "outputs": []
    },
    {
      "cell_type": "code",
      "metadata": {
        "colab": {
          "base_uri": "https://localhost:8080/"
        },
        "id": "NJVNvshqpebD",
        "outputId": "d3dd59f9-2095-48f8-85a9-16a3e779474d"
      },
      "source": [
        "# We need to create an image data generator to read in images from a directory and specify the path where the unknown images are stored\n",
        "image_data_generator =  ImageDataGenerator(rescale=1.0/255)\n",
        "data_generator = image_data_generator.flow_from_directory(\"\", classes=[\"mesonet_test_images\"])"
      ],
      "execution_count": 5,
      "outputs": [
        {
          "output_type": "stream",
          "text": [
            "Found 3 images belonging to 1 classes.\n"
          ],
          "name": "stdout"
        }
      ]
    },
    {
      "cell_type": "code",
      "metadata": {
        "id": "gFuC1YviqB4E"
      },
      "source": [
        "# We need to dine a dictionary to translate numerical labels to the text labels, \"real\" and \"fake\"\n",
        "num_to_label = {1:\"real\", 0: \"fake\"}"
      ],
      "execution_count": 6,
      "outputs": []
    },
    {
      "cell_type": "code",
      "metadata": {
        "colab": {
          "base_uri": "https://localhost:8080/"
        },
        "id": "ftzVRoulqPKO",
        "outputId": "e6c85f27-82eb-42c9-ab9b-45095994dd74"
      },
      "source": [
        "# We will run Mesonet\n",
        "X,y = data_generator.next()\n",
        "probabilistic_predictions = MesoNet_classifier.predict(X)\n",
        "predictions = [num_to_label[round(x[0])] for x in probabilistic_predictions]\n",
        "print(predictions)"
      ],
      "execution_count": 7,
      "outputs": [
        {
          "output_type": "stream",
          "text": [
            "['fake', 'fake', 'real']\n"
          ],
          "name": "stdout"
        }
      ]
    },
    {
      "cell_type": "markdown",
      "metadata": {
        "id": "nah69xsMq0I4"
      },
      "source": [
        "\n",
        "\n",
        "1.   Step 1 we import the necessary libraries.\n",
        "\n",
        "1.   Step 2: We load up the MesoNet model\n",
        "\n",
        "1.   Step 3: We dfine and use an ImageDataGenerator, a convinient keras object that allows us to perform image processing in 1 place. In the case at hand, to rescale and normalize the numerical values of pixels.\n",
        "2.   Step 4: We translate 0s and 1s into real and fake.\n",
        "\n",
        "\n",
        "2.   Step 5: We see that the MesoNet model was able to correctly predict the labels of the test images.\n",
        "\n",
        "\n"
      ]
    }
  ]
}