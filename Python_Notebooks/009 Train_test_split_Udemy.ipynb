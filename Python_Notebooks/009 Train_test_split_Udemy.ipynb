{
  "nbformat": 4,
  "nbformat_minor": 0,
  "metadata": {
    "colab": {
      "name": "Train test split Udemy.ipynb",
      "provenance": [],
      "collapsed_sections": []
    },
    "kernelspec": {
      "name": "python3",
      "display_name": "Python 3"
    },
    "language_info": {
      "name": "python"
    }
  },
  "cells": [
    {
      "cell_type": "markdown",
      "metadata": {
        "id": "478ne8Yauv0n"
      },
      "source": [
        "In machine learning, our goal is to create a program that is able to perform tasks it has never been explicitly taught to perform. The way we do is to use data we have collected to train or fit a mathematical or statistical model. The data used to fit the model is called training data.\n",
        "\n",
        "The result of trained model is used to predict the future, previously unseendata. In this way the program is able to manage new situations with out human intervention.\n",
        "\n",
        "Challenge is overfitting which is a model that performs well on the training data but is not able to generalize to new, previously-unseen data.\n",
        "\n",
        "\n",
        "To solve this proplem, machine learning engieers set aside a portion of the data, called test data and use it to assess the performance of the trained model, as opposed to including it as part of the training dataset.\n",
        "\n",
        "Overfitting in cyber security is an omnipresent danger.\n",
        "\n",
        "One small oversight, such as using only benign data from 1 locale, can lead to a poor classifier.\n",
        "\n",
        "There are various other ways to validate model performance, such as cross-validation. For simplicity, we will focus mainly on train-test splitting."
      ]
    },
    {
      "cell_type": "code",
      "metadata": {
        "id": "3Y4Eempuk-Mm"
      },
      "source": [
        ""
      ],
      "execution_count": null,
      "outputs": []
    }
  ]
}