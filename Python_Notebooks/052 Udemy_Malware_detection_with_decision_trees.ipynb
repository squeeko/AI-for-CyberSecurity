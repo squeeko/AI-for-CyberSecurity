{
  "nbformat": 4,
  "nbformat_minor": 0,
  "metadata": {
    "colab": {
      "name": "Udemy Malware detection with decision trees.ipynb",
      "provenance": []
    },
    "kernelspec": {
      "name": "python3",
      "display_name": "Python 3"
    },
    "language_info": {
      "name": "python"
    }
  },
  "cells": [
    {
      "cell_type": "code",
      "metadata": {
        "colab": {
          "base_uri": "https://localhost:8080/"
        },
        "id": "oheXobLv3IXW",
        "outputId": "557493f1-f2ea-4cc3-906f-7c3e6a35fec5"
      },
      "source": [
        "from google.colab import drive\n",
        "drive.mount('/content/drive')"
      ],
      "execution_count": 1,
      "outputs": [
        {
          "output_type": "stream",
          "text": [
            "Mounted at /content/drive\n"
          ],
          "name": "stdout"
        }
      ]
    },
    {
      "cell_type": "code",
      "metadata": {
        "colab": {
          "base_uri": "https://localhost:8080/"
        },
        "id": "uoeJk4mm3seN",
        "outputId": "46d9b7c2-8b5a-4f57-f4d8-7b3eb29cc0db"
      },
      "source": [
        "%cd /content/drive/My Drive/Colab Notebooks"
      ],
      "execution_count": 2,
      "outputs": [
        {
          "output_type": "stream",
          "text": [
            "/content/drive/My Drive/Colab Notebooks\n"
          ],
          "name": "stdout"
        }
      ]
    },
    {
      "cell_type": "code",
      "metadata": {
        "id": "epi_kAOf4BKs"
      },
      "source": [
        "import pandas as pd\n",
        "import numpy as np\n",
        "from sklearn import *\n",
        "from sklearn.metrics import accuracy_score"
      ],
      "execution_count": 3,
      "outputs": []
    },
    {
      "cell_type": "code",
      "metadata": {
        "id": "CmlwL67D4OFb"
      },
      "source": [
        "malware_dataset = pd.read_csv(\"datasets1/MalwareArtifacts.csv\", delimiter=',')"
      ],
      "execution_count": 4,
      "outputs": []
    },
    {
      "cell_type": "code",
      "metadata": {
        "id": "E9J1BzoQ4dIq"
      },
      "source": [
        "#Extract artifacts samples fileds \"AddressOfEntryPoint\" and \"DLLCharacteristics\"\n",
        "samples = malware_dataset.iloc[:, [0, 4]].values\n",
        "targets = malware_dataset.iloc[:, 8].values"
      ],
      "execution_count": 6,
      "outputs": []
    },
    {
      "cell_type": "code",
      "metadata": {
        "id": "gdXEI9GJ5HXD"
      },
      "source": [
        "from sklearn.model_selection import train_test_split\n",
        "training_samples, testing_samples, training_targets, testing_targets = train_test_split(samples, targets, test_size = 0.2, random_state = 0)\n"
      ],
      "execution_count": 7,
      "outputs": []
    },
    {
      "cell_type": "code",
      "metadata": {
        "colab": {
          "base_uri": "https://localhost:8080/"
        },
        "id": "4h33N4dB5bg-",
        "outputId": "0f8f3fe6-20a3-416e-acc9-581c5722b70f"
      },
      "source": [
        "from sklearn import tree\n",
        "tree_classifer = tree.DecisionTreeClassifier()\n",
        "tree_classifer.fit(training_samples, training_targets)\n",
        "predictions = tree_classifer.predict(testing_samples)\n",
        "accuracy = 100* accuracy_score(testing_targets, predictions)\n",
        "print(\"Decision Tree accuracy: \" + str(accuracy))"
      ],
      "execution_count": 8,
      "outputs": [
        {
          "output_type": "stream",
          "text": [
            "Decision Tree accuracy: 96.27487358579796\n"
          ],
          "name": "stdout"
        }
      ]
    }
  ]
}