{
  "nbformat": 4,
  "nbformat_minor": 0,
  "metadata": {
    "colab": {
      "name": "Standardizing data Udemy.ipynb",
      "provenance": []
    },
    "kernelspec": {
      "name": "python3",
      "display_name": "Python 3"
    },
    "language_info": {
      "name": "python"
    }
  },
  "cells": [
    {
      "cell_type": "markdown",
      "metadata": {
        "id": "EX6m-JG4-1E_"
      },
      "source": [
        "To standardize a feature means to shift all of its values so that their mean = 0 and to scale them so that their variance = 1"
      ]
    },
    {
      "cell_type": "code",
      "metadata": {
        "colab": {
          "base_uri": "https://localhost:8080/"
        },
        "id": "kyoAeeet970n",
        "outputId": "2693d7b9-6a4d-4028-82cd-4c62bfc449af"
      },
      "source": [
        "from google.colab import drive\n",
        "drive.mount('/content/drive')"
      ],
      "execution_count": 1,
      "outputs": [
        {
          "output_type": "stream",
          "text": [
            "Mounted at /content/drive\n"
          ],
          "name": "stdout"
        }
      ]
    },
    {
      "cell_type": "code",
      "metadata": {
        "colab": {
          "base_uri": "https://localhost:8080/"
        },
        "id": "MMZFAzjq-T2j",
        "outputId": "8bd2b7cf-cbbe-4e50-b71f-564ce2dd01e6"
      },
      "source": [
        "%cd /content/drive/My Drive/Colab Notebooks"
      ],
      "execution_count": 3,
      "outputs": [
        {
          "output_type": "stream",
          "text": [
            "/content/drive/My Drive/Colab Notebooks\n"
          ],
          "name": "stdout"
        }
      ]
    },
    {
      "cell_type": "code",
      "metadata": {
        "id": "p3Z6ftQr_V51"
      },
      "source": [
        "# We start by importing the required libraries and gathering a dataset\n",
        "import pandas as pd\n",
        "data = pd.read_csv(\"file_pe_headers.csv\", sep =\",\")\n",
        "X = data.drop([\"Name\", \"Malware\"], axis=1).to_numpy()"
      ],
      "execution_count": 5,
      "outputs": []
    },
    {
      "cell_type": "code",
      "metadata": {
        "id": "N1fKkOaj_2Qe"
      },
      "source": [
        "# Next standarize x using StandardScaler instance\n",
        "from sklearn.preprocessing import StandardScaler\n",
        "X_standardized = StandardScaler().fit_transform(X)"
      ],
      "execution_count": 6,
      "outputs": []
    },
    {
      "cell_type": "code",
      "metadata": {
        "colab": {
          "base_uri": "https://localhost:8080/"
        },
        "id": "dE5vcO6kAJ4f",
        "outputId": "9b5eea03-73dd-4b30-e266-e275e95ca32f"
      },
      "source": [
        "print(X_standardized)"
      ],
      "execution_count": 7,
      "outputs": [
        {
          "output_type": "stream",
          "text": [
            "[[ 0.         -0.03506542 -0.04751096 ... -0.07054894 -0.0198525\n",
            "  -0.04066791]\n",
            " [ 0.         -0.03506542 -0.04751096 ... -0.03849221 -0.02110877\n",
            "  -0.02469983]\n",
            " [ 0.         -0.03506542 -0.04751096 ... -0.07599254 -0.02110877\n",
            "  -0.04066791]\n",
            " ...\n",
            " [ 0.         -0.18093613 -0.04958686 ... -0.07296832 -0.02110877\n",
            "  -0.04066791]\n",
            " [ 0.         -0.03506542 -0.04751096 ... -0.06691988 -0.02110877\n",
            "  -0.04066791]\n",
            " [ 0.         -0.03506542 -0.04751096 ...  0.00021781 -0.02110877\n",
            "  -0.04066791]]\n"
          ],
          "name": "stdout"
        }
      ]
    },
    {
      "cell_type": "markdown",
      "metadata": {
        "id": "2eB22gEeAkRt"
      },
      "source": [
        "It is important to standardize features because performance is highly sensitive to the relative scale of features."
      ]
    }
  ]
}