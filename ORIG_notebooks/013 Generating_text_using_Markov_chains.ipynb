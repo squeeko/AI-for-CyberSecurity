{
  "nbformat": 4,
  "nbformat_minor": 0,
  "metadata": {
    "colab": {
      "name": "Generating text using Markov chains.ipynb",
      "provenance": []
    },
    "kernelspec": {
      "name": "python3",
      "display_name": "Python 3"
    },
    "language_info": {
      "name": "python"
    }
  },
  "cells": [
    {
      "cell_type": "markdown",
      "metadata": {
        "id": "_D9v9RqkY0xE"
      },
      "source": [
        "Markov chains are simple stochastic models in which a system can exist in a number of states. "
      ]
    },
    {
      "cell_type": "code",
      "metadata": {
        "colab": {
          "base_uri": "https://localhost:8080/"
        },
        "id": "EEDlei9rYSEp",
        "outputId": "f20d408c-8b99-42e2-fd81-d021566786a8"
      },
      "source": [
        "from google.colab import drive\n",
        "drive.mount('/content/drive')"
      ],
      "execution_count": 1,
      "outputs": [
        {
          "output_type": "stream",
          "text": [
            "Mounted at /content/drive\n"
          ],
          "name": "stdout"
        }
      ]
    },
    {
      "cell_type": "code",
      "metadata": {
        "colab": {
          "base_uri": "https://localhost:8080/"
        },
        "id": "ngumYGhlYXe8",
        "outputId": "40a0f2fd-4071-48a9-8146-6dbcf14b2c13"
      },
      "source": [
        "%cd /content/drive/My Drive/Colab Notebooks"
      ],
      "execution_count": 2,
      "outputs": [
        {
          "output_type": "stream",
          "text": [
            "/content/drive/My Drive/Colab Notebooks\n"
          ],
          "name": "stdout"
        }
      ]
    },
    {
      "cell_type": "code",
      "metadata": {
        "colab": {
          "base_uri": "https://localhost:8080/"
        },
        "id": "W2LnHZMQZh1P",
        "outputId": "480e8b83-4bfd-4b5a-b63f-b8a8639ce053"
      },
      "source": [
        "!pip install markovify"
      ],
      "execution_count": 4,
      "outputs": [
        {
          "output_type": "stream",
          "text": [
            "Collecting markovify\n",
            "  Downloading https://files.pythonhosted.org/packages/56/18/fdc3e6e0a55e10a4457846987e6b48587c0dbf616baae582501da7396b82/markovify-0.9.0.tar.gz\n",
            "Collecting unidecode\n",
            "\u001b[?25l  Downloading https://files.pythonhosted.org/packages/9e/25/723487ca2a52ebcee88a34d7d1f5a4b80b793f179ee0f62d5371938dfa01/Unidecode-1.2.0-py2.py3-none-any.whl (241kB)\n",
            "\u001b[K     |████████████████████████████████| 245kB 11.3MB/s \n",
            "\u001b[?25hBuilding wheels for collected packages: markovify\n",
            "  Building wheel for markovify (setup.py) ... \u001b[?25l\u001b[?25hdone\n",
            "  Created wheel for markovify: filename=markovify-0.9.0-cp37-none-any.whl size=18476 sha256=19c48947a50d5118acedaa4714e82b95da3cd8ee2ffa7d02906f7d0e8672b644\n",
            "  Stored in directory: /root/.cache/pip/wheels/03/59/5b/04c5f27d57977580c1122fa69a69c327dede5a30f9dac54c55\n",
            "Successfully built markovify\n",
            "Installing collected packages: unidecode, markovify\n",
            "Successfully installed markovify-0.9.0 unidecode-1.2.0\n"
          ],
          "name": "stdout"
        }
      ]
    },
    {
      "cell_type": "code",
      "metadata": {
        "id": "buchVFe6ZLZi"
      },
      "source": [
        "#Start by importing markoveify library and a text file whose style we would like to imitate\n",
        "import markovify\n",
        "import pandas as pd\n",
        "df = pd.read_csv(\"airport_reviews.csv\")"
      ],
      "execution_count": 5,
      "outputs": []
    },
    {
      "cell_type": "code",
      "metadata": {
        "id": "6hRzY-slZoUM"
      },
      "source": [
        "#Next, join the individual reviews into 1 large text string and build a Markov chain model using the airport review text\n",
        "from itertools import chain\n",
        "N=100\n",
        "review_subset = df[\"content\"][0:N]\n",
        "text = \"\".join(chain.from_iterable(review_subset))\n",
        "markov_chain_model = markovify.Text(text)"
      ],
      "execution_count": 7,
      "outputs": []
    },
    {
      "cell_type": "code",
      "metadata": {
        "colab": {
          "base_uri": "https://localhost:8080/"
        },
        "id": "FiRHMiXmaOAm",
        "outputId": "99895826-7c49-4e1d-96ef-0230acd4ffce"
      },
      "source": [
        "#Generate 5 sentences using the Markov chain model\n",
        "for i in range(5):\n",
        "  print(markov_chain_model.make_sentence())"
      ],
      "execution_count": 8,
      "outputs": [
        {
          "output_type": "stream",
          "text": [
            "Queues through security which was my flight which was my flight departure time.\n",
            "The departure hall making room in the same as a result which Swissport said they would not recommend flying through Brussels take it.Flew from the airport my luggage would be waiting on the belt when we reached the luggage as shown on the 4th of August at 21.35 was smooth.\n",
            "Taxi Fare to the gate.\n",
            "The airport is not accepted anywhere and staff were kindly waiting for his luggage you may have to go anywhere.\n",
            "Taxi Fare to the gates too small to accommodate all arriving passengers.\n"
          ],
          "name": "stdout"
        }
      ]
    },
    {
      "cell_type": "code",
      "metadata": {
        "colab": {
          "base_uri": "https://localhost:8080/"
        },
        "id": "rb4j9HCfad6m",
        "outputId": "b8bcdeb0-186b-44cb-b407-69e262db8a9c"
      },
      "source": [
        "# Generate 3 sentence with a length of no more than 140 characters\n",
        "for i in range(3):\n",
        "  print(markov_chain_model.make_short_sentence(140))"
      ],
      "execution_count": 9,
      "outputs": [
        {
          "output_type": "stream",
          "text": [
            "It's gone a long corridor.\n",
            "People were crowded into lines trying to get file our lost luggage claim area.\n",
            "Again in about three times I used this airport at Otopeni has the international standard and is an incredibly confusing airport.\n"
          ],
          "name": "stdout"
        }
      ]
    },
    {
      "cell_type": "markdown",
      "metadata": {
        "id": "NMXz5GmQa6ew"
      },
      "source": [
        "\n",
        "\n",
        "1.   We import markovify library , a library for markov chain computations and reading in text which we will inform our Markov model\n",
        "\n",
        "1.   We create a Markov chain model using the text\n",
        "2.   We generate a few sentences\n",
        "\n",
        "\n",
        "2.   We generate a few sentences\n",
        "\n",
        "\n",
        "1.   We create a few tweets in the syle of the airport reviews using our Markov chains\n",
        "\n",
        "\n",
        "\n"
      ]
    }
  ]
}