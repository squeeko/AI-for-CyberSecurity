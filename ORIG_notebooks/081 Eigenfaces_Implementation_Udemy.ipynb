{
  "nbformat": 4,
  "nbformat_minor": 0,
  "metadata": {
    "colab": {
      "name": "Eigenfaces Implementation Udemy.ipynb",
      "provenance": []
    },
    "kernelspec": {
      "name": "python3",
      "display_name": "Python 3"
    },
    "language_info": {
      "name": "python"
    }
  },
  "cells": [
    {
      "cell_type": "code",
      "metadata": {
        "id": "gSY2rEz5019f"
      },
      "source": [
        "from sklearn.datasets import fetch_lfw_people"
      ],
      "execution_count": 1,
      "outputs": []
    },
    {
      "cell_type": "code",
      "metadata": {
        "id": "mqLVnEde1im5"
      },
      "source": [
        "from sklearn.decomposition import PCA\n",
        "from sklearn.neural_network import MLPClassifier\n",
        "from sklearn.model_selection import train_test_split\n",
        "from sklearn.metrics import classification_report"
      ],
      "execution_count": 2,
      "outputs": []
    },
    {
      "cell_type": "code",
      "metadata": {
        "id": "Xv6zlYUQ11E1"
      },
      "source": [
        "lfw = fetch_lfw_people(min_faces_per_person=150)\n",
        "X_data = lfw.data\n",
        "y_target = lfw.target\n",
        "names = lfw.target_names\n",
        "X_train, X_test, y_train, y_test = train_test_split(X_data, y_target, test_size = 0.3)"
      ],
      "execution_count": 5,
      "outputs": []
    },
    {
      "cell_type": "code",
      "metadata": {
        "colab": {
          "base_uri": "https://localhost:8080/"
        },
        "id": "NDv8ymed2RGb",
        "outputId": "a772273a-06da-4542-e70c-8f7cfdf0d116"
      },
      "source": [
        "pca = PCA(n_components = 150, whiten=True)\n",
        "pca.fit(X_train)\n",
        "pca_train = pca.transform(X_train)\n",
        "pca_test = pca.transform(X_test)\n",
        "mlpc = MLPClassifier()\n",
        "mlpc.fit(pca_train, y_train)\n",
        "y_pred = mlpc.predict(pca_test)\n",
        "print(classification_report(y_test, y_pred, target_names=names))"
      ],
      "execution_count": 8,
      "outputs": [
        {
          "output_type": "stream",
          "text": [
            "               precision    recall  f1-score   support\n",
            "\n",
            " Colin Powell       0.94      0.88      0.91        72\n",
            "George W Bush       0.94      0.97      0.96       158\n",
            "\n",
            "     accuracy                           0.94       230\n",
            "    macro avg       0.94      0.92      0.93       230\n",
            " weighted avg       0.94      0.94      0.94       230\n",
            "\n"
          ],
          "name": "stdout"
        }
      ]
    }
  ]
}