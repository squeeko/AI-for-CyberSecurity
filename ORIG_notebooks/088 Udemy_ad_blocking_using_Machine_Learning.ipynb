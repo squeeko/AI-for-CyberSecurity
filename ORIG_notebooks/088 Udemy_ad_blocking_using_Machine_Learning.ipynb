{
  "nbformat": 4,
  "nbformat_minor": 0,
  "metadata": {
    "colab": {
      "name": "Udemy ad blocking using Machine Learning.ipynb",
      "provenance": []
    },
    "kernelspec": {
      "name": "python3",
      "display_name": "Python 3"
    },
    "language_info": {
      "name": "python"
    }
  },
  "cells": [
    {
      "cell_type": "markdown",
      "metadata": {
        "id": "6LKVurjqu-p-"
      },
      "source": [
        "\n",
        "Ad blockin g is the operatiuon of removing or altering online advertisement in a web browser or an application. You will utilize machine learning to detect ads so that they can be blocked and you can browse hassle-free\n",
        "\n"
      ]
    },
    {
      "cell_type": "code",
      "metadata": {
        "colab": {
          "base_uri": "https://localhost:8080/"
        },
        "id": "5fcNjA3Kt3sb",
        "outputId": "c59856ba-882b-4722-b6df-b994c5868162"
      },
      "source": [
        "from google.colab import drive\n",
        "drive.mount('/content/drive')"
      ],
      "execution_count": 1,
      "outputs": [
        {
          "output_type": "stream",
          "text": [
            "Mounted at /content/drive\n"
          ],
          "name": "stdout"
        }
      ]
    },
    {
      "cell_type": "code",
      "metadata": {
        "colab": {
          "base_uri": "https://localhost:8080/"
        },
        "id": "0KzQRtOXt5c-",
        "outputId": "a469ec8c-1ff2-4cbd-8f17-c508230d8f45"
      },
      "source": [
        "%cd /content/drive/My Drive/Colab Notebooks"
      ],
      "execution_count": 2,
      "outputs": [
        {
          "output_type": "stream",
          "text": [
            "/content/drive/My Drive/Colab Notebooks\n"
          ],
          "name": "stdout"
        }
      ]
    },
    {
      "cell_type": "code",
      "metadata": {
        "colab": {
          "base_uri": "https://localhost:8080/"
        },
        "id": "480y5GAovYuA",
        "outputId": "0777bfe6-847b-4047-d8bc-a4ea2db6d61e"
      },
      "source": [
        "# Collect a dataset of internet advertisements and import the data into a data frame using pandas\n",
        "import pandas as pd\n",
        "df = pd.read_csv(\"ad.data\", header=None)\n",
        "df.rename(columns={1558:\"label\"}, inplace=True)"
      ],
      "execution_count": 3,
      "outputs": [
        {
          "output_type": "stream",
          "text": [
            "/usr/local/lib/python3.7/dist-packages/IPython/core/interactiveshell.py:2718: DtypeWarning: Columns (3) have mixed types.Specify dtype option on import or set low_memory=False.\n",
            "  interactivity=interactivity, compiler=compiler, result=result)\n"
          ],
          "name": "stderr"
        }
      ]
    },
    {
      "cell_type": "code",
      "metadata": {
        "id": "u5CWugvGv2lk"
      },
      "source": [
        "# The data is dirty in the sense of having missing values. Let's find all the rows that have a missing values\n",
        "improper_rows = []\n",
        "for index, row in df.iterrows():\n",
        "  for col in df.columns:\n",
        "    val = str(row[col]).strip()\n",
        "    if val == \"?\":\n",
        "      improper_rows.append(index)"
      ],
      "execution_count": 4,
      "outputs": []
    },
    {
      "cell_type": "code",
      "metadata": {
        "id": "Xm3Ycp0lwVlQ"
      },
      "source": [
        "# In the case at hand, it makes sense to drop the rows with missing values \n",
        "df = df.drop(df.index[list(set(improper_rows))])"
      ],
      "execution_count": 5,
      "outputs": []
    },
    {
      "cell_type": "code",
      "metadata": {
        "id": "54nD-VS4whvW"
      },
      "source": [
        "# We will convert the label into numerical form\n",
        "def label_to_numeric(row):\n",
        "  \"\"\"\n",
        "  Binarize the label\n",
        "  \"\"\"\n",
        "  if row[\"label\"] == \"ad.\":\n",
        "    return 1\n",
        "  else:\n",
        "    return 0"
      ],
      "execution_count": 6,
      "outputs": []
    },
    {
      "cell_type": "code",
      "metadata": {
        "id": "Z9qbSofrw5Ez"
      },
      "source": [
        "df[\"label\"] = df.apply(label_to_numeric, axis=1)"
      ],
      "execution_count": 7,
      "outputs": []
    },
    {
      "cell_type": "code",
      "metadata": {
        "id": "SSGpCfHHw-07"
      },
      "source": [
        "# We will split the data into training and testing data\n",
        "from sklearn.model_selection import train_test_split\n",
        "df_train, df_test = train_test_split(df)\n"
      ],
      "execution_count": 8,
      "outputs": []
    },
    {
      "cell_type": "code",
      "metadata": {
        "id": "qRW8SHX3xNfZ"
      },
      "source": [
        "# We will distribute the data into feautre arrays and label arrays\n",
        "y_train = df_train.pop(\"label\").values\n",
        "y_test = df_test.pop(\"label\").values\n",
        "x_train = df_train.values\n",
        "x_test = df_test.values"
      ],
      "execution_count": 9,
      "outputs": []
    },
    {
      "cell_type": "code",
      "metadata": {
        "colab": {
          "base_uri": "https://localhost:8080/"
        },
        "id": "dSC3s6ZvxftN",
        "outputId": "8157a35e-9286-46e9-cfc0-3c231dfe300a"
      },
      "source": [
        "# We will instantiate a random forest classifier and train it\n",
        "from sklearn.ensemble import RandomForestClassifier\n",
        "clf = RandomForestClassifier()\n",
        "clf.fit(x_train, y_train)\n",
        "clf.score(x_test,y_test)"
      ],
      "execution_count": 10,
      "outputs": [
        {
          "output_type": "execute_result",
          "data": {
            "text/plain": [
              "0.9728813559322034"
            ]
          },
          "metadata": {
            "tags": []
          },
          "execution_count": 10
        }
      ]
    },
    {
      "cell_type": "markdown",
      "metadata": {
        "id": "FNsKFp-Kx53Z"
      },
      "source": [
        "\n",
        "\n",
        "\n",
        "1.   Step 1: We import the dataset that has been feature-engineered for us\n",
        "2.   Step 2: We import the data into  a dataframe and look at the data, we see that it consists of 1558 numerical features and an add or non-ad label. The feautres encode the geometry of the image, sentences in the URL and the URL of the image, alt text, anchor text and words near the anchor text\n",
        "\n",
        "\n",
        "1.   Step 3 and 4: We predict whether an image has an ad or not and we proceed to clean our data by dropping rows with missing values\n",
        "\n",
        "1.   Step 5 We convert our target into numerical form\n",
        "\n",
        "1.   Step 6 and 7: We train-test split our data in preparation for learning.\n",
        "2.   Step 8 and 9: We fit and test a basic classifier on the data\n",
        "\n",
        "\n"
      ]
    }
  ]
}