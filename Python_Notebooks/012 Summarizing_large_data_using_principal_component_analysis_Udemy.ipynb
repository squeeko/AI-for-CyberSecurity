{
  "nbformat": 4,
  "nbformat_minor": 0,
  "metadata": {
    "colab": {
      "name": "Summarizing large data using principal component analysis Udemy.ipynb",
      "provenance": []
    },
    "kernelspec": {
      "name": "python3",
      "display_name": "Python 3"
    },
    "language_info": {
      "name": "python"
    }
  },
  "cells": [
    {
      "cell_type": "code",
      "metadata": {
        "colab": {
          "base_uri": "https://localhost:8080/"
        },
        "id": "bSUMUMT2UKaP",
        "outputId": "18b8ca17-35e1-4be6-eeba-45de59277106"
      },
      "source": [
        "from google.colab import drive\n",
        "drive.mount('/content/drive')"
      ],
      "execution_count": null,
      "outputs": [
        {
          "output_type": "stream",
          "text": [
            "Mounted at /content/drive\n"
          ],
          "name": "stdout"
        }
      ]
    },
    {
      "cell_type": "code",
      "metadata": {
        "colab": {
          "base_uri": "https://localhost:8080/"
        },
        "id": "NyYWkF5eVwc0",
        "outputId": "22335bc1-acb1-4e25-8c70-9b101aa0a317"
      },
      "source": [
        "%cd /content/drive/My Drive/Colab Notebooks"
      ],
      "execution_count": null,
      "outputs": [
        {
          "output_type": "stream",
          "text": [
            "/content/drive/My Drive/Colab Notebooks\n"
          ],
          "name": "stdout"
        }
      ]
    },
    {
      "cell_type": "code",
      "metadata": {
        "id": "tf2BO0zjVydp"
      },
      "source": [
        "# Start by importing the necessary libraries and reading in the dataset\n",
        "from sklearn.decomposition import PCA\n",
        "import pandas as pd\n",
        "data = pd.read_csv(\"file_pe_headers.csv\", sep=\",\")\n",
        "X = data.drop([\"Name\", \"Malware\"], axis=1).to_numpy()"
      ],
      "execution_count": null,
      "outputs": []
    },
    {
      "cell_type": "code",
      "metadata": {
        "colab": {
          "base_uri": "https://localhost:8080/"
        },
        "id": "Rwy1e2m2Wbzo",
        "outputId": "0140bf94-7457-4cd7-ede5-e307dd47173c"
      },
      "source": [
        "#Standardize the dataset as it is neccessary before applying PCA\n",
        "from sklearn.preprocessing import StandardScaler\n",
        "X_standardized = StandardScaler().fit_transform(X)\n",
        "# Instantiate a PCA instance use it to reduce the dimensionality of our data\n",
        "pca = PCA()\n",
        "pca.fit_transform(X_standardized)\n",
        "# Assess the effectiveness of your dimensionality reduction\n",
        "print(pca.explained_variance_ratio_)"
      ],
      "execution_count": null,
      "outputs": [
        {
          "output_type": "stream",
          "text": [
            "[1.13714096e-01 6.04526312e-02 5.35847638e-02 4.95286930e-02\n",
            " 4.08242868e-02 3.43687925e-02 3.32004002e-02 3.01112226e-02\n",
            " 2.86901095e-02 2.81624164e-02 2.54807940e-02 2.38845548e-02\n",
            " 2.22696648e-02 2.05755591e-02 1.82485433e-02 1.73648310e-02\n",
            " 1.66649078e-02 1.63647194e-02 1.52683994e-02 1.46357930e-02\n",
            " 1.45790542e-02 1.45535760e-02 1.44699413e-02 1.44154480e-02\n",
            " 1.42948516e-02 1.39221004e-02 1.35338124e-02 1.33766277e-02\n",
            " 1.32896667e-02 1.23472302e-02 1.20507834e-02 1.15452214e-02\n",
            " 1.13731313e-02 1.10939084e-02 1.07062189e-02 1.01649154e-02\n",
            " 9.90148375e-03 9.61478385e-03 9.17627698e-03 9.04802544e-03\n",
            " 8.66332999e-03 6.94752252e-03 6.84216033e-03 6.48244001e-03\n",
            " 5.95005317e-03 5.91335216e-03 5.41615029e-03 5.10640740e-03\n",
            " 4.83543074e-03 4.45888820e-03 4.29104432e-03 3.82076025e-03\n",
            " 3.79864324e-03 3.24146447e-03 3.18558571e-03 2.67004617e-03\n",
            " 2.03201471e-03 1.73591476e-03 1.65758475e-03 1.56708821e-03\n",
            " 1.38839592e-03 1.20694096e-03 8.20896559e-04 6.92520065e-04\n",
            " 2.79632267e-04 1.36614783e-04 6.56001071e-06 3.22441346e-07\n",
            " 1.26534195e-10 5.64125607e-34 5.64125607e-34 5.64125607e-34\n",
            " 5.64125607e-34 5.64125607e-34 5.64125607e-34 5.64125607e-34\n",
            " 5.63722303e-34]\n"
          ],
          "name": "stdout"
        }
      ]
    },
    {
      "cell_type": "code",
      "metadata": {
        "colab": {
          "base_uri": "https://localhost:8080/"
        },
        "id": "dq8kPOkXXeJ7",
        "outputId": "1f5a67ea-c69a-4b38-89cd-2a29cdcec37c"
      },
      "source": [
        "sum(pca.explained_variance_ratio_[0:40])"
      ],
      "execution_count": null,
      "outputs": [
        {
          "output_type": "execute_result",
          "data": {
            "text/plain": [
              "0.9068522354673682"
            ]
          },
          "metadata": {
            "tags": []
          },
          "execution_count": 5
        }
      ]
    }
  ]
}