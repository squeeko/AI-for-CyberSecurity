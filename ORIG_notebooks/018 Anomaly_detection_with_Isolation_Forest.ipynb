{
  "nbformat": 4,
  "nbformat_minor": 0,
  "metadata": {
    "colab": {
      "name": "Anomaly detection with Isolation Forest.ipynb",
      "provenance": []
    },
    "kernelspec": {
      "name": "python3",
      "display_name": "Python 3"
    },
    "language_info": {
      "name": "python"
    }
  },
  "cells": [
    {
      "cell_type": "markdown",
      "metadata": {
        "id": "VSjqTgXYq6Ub"
      },
      "source": [
        "Anomaly detection is the identification of events in a dataset that do not conform to the expected pattern. In application, these vents may be of critical importance.\n",
        "\n",
        "For example, they maybe  occurences of a network intrusion or of fraud.\n",
        "\n",
        "We will utilize Isolation forest to detect such anomalies.\n",
        "\n",
        "Isolation Forest depends on the observation that it is easy to islate an outlier, while more difficult to describe a normal data point."
      ]
    },
    {
      "cell_type": "code",
      "metadata": {
        "id": "mhm7mHCnqe52"
      },
      "source": [
        ""
      ],
      "execution_count": null,
      "outputs": []
    }
  ]
}