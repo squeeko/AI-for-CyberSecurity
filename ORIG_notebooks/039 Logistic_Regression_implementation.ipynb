{
  "nbformat": 4,
  "nbformat_minor": 0,
  "metadata": {
    "colab": {
      "name": "Logistic Regression implementation.ipynb",
      "provenance": []
    },
    "kernelspec": {
      "name": "python3",
      "display_name": "Python 3"
    },
    "language_info": {
      "name": "python"
    }
  },
  "cells": [
    {
      "cell_type": "code",
      "metadata": {
        "colab": {
          "base_uri": "https://localhost:8080/"
        },
        "id": "cC1aJ-gIlLTh",
        "outputId": "5f5d41be-9790-4c85-9b57-8abc9831e249"
      },
      "source": [
        "from google.colab import drive\n",
        "drive.mount('/content/drive')"
      ],
      "execution_count": 1,
      "outputs": [
        {
          "output_type": "stream",
          "text": [
            "Mounted at /content/drive\n"
          ],
          "name": "stdout"
        }
      ]
    },
    {
      "cell_type": "code",
      "metadata": {
        "colab": {
          "base_uri": "https://localhost:8080/"
        },
        "id": "UhjKMMnImefz",
        "outputId": "13f4aeca-656a-44d2-9679-1335d0c7eda5"
      },
      "source": [
        "%cd /content/drive/My Drive/Colab Notebooks"
      ],
      "execution_count": 2,
      "outputs": [
        {
          "output_type": "stream",
          "text": [
            "/content/drive/My Drive/Colab Notebooks\n"
          ],
          "name": "stdout"
        }
      ]
    },
    {
      "cell_type": "code",
      "metadata": {
        "id": "ghWhD6ZCmrmn"
      },
      "source": [
        "import pandas as pd\n",
        "import numpy as np\n"
      ],
      "execution_count": 3,
      "outputs": []
    },
    {
      "cell_type": "code",
      "metadata": {
        "id": "d1jF1kTSmwlP"
      },
      "source": [
        "from sklearn import *\n",
        "from sklearn.linear_model import LogisticRegression\n",
        "from sklearn.metrics import accuracy_score"
      ],
      "execution_count": 4,
      "outputs": []
    },
    {
      "cell_type": "code",
      "metadata": {
        "id": "rz76LOfVm8d_"
      },
      "source": [
        "phishing_dataset = np.genfromtxt('datasets/phishing_dataset.csv', delimiter=',', dtype=np.int32)\n",
        "samples = phishing_dataset[:,:-1]\n",
        "targets = phishing_dataset[:,-1]"
      ],
      "execution_count": 5,
      "outputs": []
    },
    {
      "cell_type": "code",
      "metadata": {
        "colab": {
          "base_uri": "https://localhost:8080/"
        },
        "id": "IZXlTkdUnX55",
        "outputId": "351bdbd0-ab97-49ca-c8d1-4bd5ce55f2c2"
      },
      "source": [
        "from sklearn.model_selection import train_test_split\n",
        "training_samples, testing_samples, training_targets, testing_targets = train_test_split(samples, targets, test_size=0.2, random_state=0)\n",
        "log_classifier = LogisticRegression()\n",
        "log_classifier.fit(training_samples, training_targets)\n",
        "predictions = log_classifier.predict(testing_samples)\n",
        "accuracy = 100.0*accuracy_score(testing_targets, predictions)\n",
        "print(\"Logistic Regression Accuracy: \" + str(accuracy))"
      ],
      "execution_count": 6,
      "outputs": [
        {
          "output_type": "stream",
          "text": [
            "Logistic Regression Accuracy: 91.67797376752601\n"
          ],
          "name": "stdout"
        }
      ]
    },
    {
      "cell_type": "markdown",
      "metadata": {
        "id": "wEG1BWazoRY_"
      },
      "source": [
        "Advantages:\n",
        "\n",
        "*   The model can be trained very efficiently\n",
        "\n",
        "*   It can be used effectively even in the presence of a large number of features\n",
        "\n",
        "*   The algorithm has a high degree of scalability due to the simplicity of its scoring function\n",
        "\n",
        "\n",
        "Disadvantages:\n",
        "*   The need for the features to be linearly independent (the absence of multicollinearity )\n",
        "*   It needs more training smaples on average than other competing algorithmms\n",
        "\n",
        "*   The maximum liklihood criterion adopted in logistic regression is known to be less powerful than the least squares method iused in linear regression to minimize prediction errors.\n"
      ]
    }
  ]
}