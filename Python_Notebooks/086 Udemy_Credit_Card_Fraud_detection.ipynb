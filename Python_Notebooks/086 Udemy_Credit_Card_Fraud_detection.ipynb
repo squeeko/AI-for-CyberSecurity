{
  "nbformat": 4,
  "nbformat_minor": 0,
  "metadata": {
    "colab": {
      "name": "Udemy Credit Card Fraud detection.ipynb",
      "provenance": [],
      "collapsed_sections": []
    },
    "kernelspec": {
      "name": "python3",
      "display_name": "Python 3"
    },
    "language_info": {
      "name": "python"
    }
  },
  "cells": [
    {
      "cell_type": "code",
      "metadata": {
        "id": "MW2Tqj4Ngo-j"
      },
      "source": [
        "# Import pandas and read the data pertaining to transactions into a dataframe\n",
        "import pandas as pd"
      ],
      "execution_count": 1,
      "outputs": []
    },
    {
      "cell_type": "code",
      "metadata": {
        "colab": {
          "base_uri": "https://localhost:8080/"
        },
        "id": "l11HL1T2itzH",
        "outputId": "a23958ee-53fa-40fc-c6bb-ab3a93445f80"
      },
      "source": [
        "from google.colab import drive\n",
        "drive.mount('/content/drive')"
      ],
      "execution_count": 2,
      "outputs": [
        {
          "output_type": "stream",
          "text": [
            "Mounted at /content/drive\n"
          ],
          "name": "stdout"
        }
      ]
    },
    {
      "cell_type": "code",
      "metadata": {
        "colab": {
          "base_uri": "https://localhost:8080/"
        },
        "id": "eawS1gQrivKr",
        "outputId": "74228cd6-d9ea-40dc-e4cb-77987da11517"
      },
      "source": [
        "%cd /content/drive/My Drive/Colab Notebooks"
      ],
      "execution_count": 3,
      "outputs": [
        {
          "output_type": "stream",
          "text": [
            "/content/drive/My Drive/Colab Notebooks\n"
          ],
          "name": "stdout"
        }
      ]
    },
    {
      "cell_type": "code",
      "metadata": {
        "id": "0aFKMDuPi457"
      },
      "source": [
        "fraud_df = pd.read_csv(\"FinancialFraudDB.csv\", index_col=None)"
      ],
      "execution_count": 4,
      "outputs": []
    },
    {
      "cell_type": "code",
      "metadata": {
        "id": "jqMacoZ4jDxy"
      },
      "source": [
        "card_replacement_cost = 5\n",
        "customer_freeze_cost = 3"
      ],
      "execution_count": 5,
      "outputs": []
    },
    {
      "cell_type": "code",
      "metadata": {
        "id": "vxOcHLrBjKX2"
      },
      "source": [
        "# Define a cost matrix corresponding to the figure\n",
        "import numpy as np\n",
        "cost_matrix = np.zeros((len(fraud_df.index),4))\n",
        "cost_matrix[:, 0] = customer_freeze_cost *np.ones(len(fraud_df.index))\n",
        "cost_matrix[:, 1] = fraud_df[\"Amount\"].values\n",
        "cost_matrix[:, 2] = card_replacement_cost *np.ones(len(fraud_df.index))"
      ],
      "execution_count": 6,
      "outputs": []
    },
    {
      "cell_type": "code",
      "metadata": {
        "id": "sAsH5Z4jjt5g"
      },
      "source": [
        "#Create labels and feature matrices\n",
        "y = fraud_df.pop(\"Class\").values\n",
        "x = fraud_df.values"
      ],
      "execution_count": 7,
      "outputs": []
    },
    {
      "cell_type": "code",
      "metadata": {
        "id": "40Lu4YjSj6bc"
      },
      "source": [
        "# Create a train-test split\n",
        "from sklearn.model_selection import train_test_split\n",
        "sets = train_test_split(x, y, cost_matrix, test_size=0.25, random_state = 11)\n",
        "x_train, x_test,y_train,y_test, cost_matrix_train, cost_matrix_test = sets"
      ],
      "execution_count": 8,
      "outputs": []
    },
    {
      "cell_type": "code",
      "metadata": {
        "id": "-dV7fz5hkUxF"
      },
      "source": [
        "# Import the decision tree, fit it to the training data and then predict on the testing set\n",
        "from sklearn import tree\n",
        "y_pred_test_dt = tree.DecisionTreeClassifier().fit(x_train,y_train).predict(x_test)"
      ],
      "execution_count": 9,
      "outputs": []
    },
    {
      "cell_type": "code",
      "metadata": {
        "colab": {
          "base_uri": "https://localhost:8080/"
        },
        "id": "3z84-A1ik1Ii",
        "outputId": "b88fc24d-0b0f-4a25-f5cc-2d75e3c6d7cc"
      },
      "source": [
        "!pip install costcla"
      ],
      "execution_count": 10,
      "outputs": [
        {
          "output_type": "stream",
          "text": [
            "Collecting costcla\n",
            "\u001b[?25l  Downloading https://files.pythonhosted.org/packages/88/c4/1e2e6495e81d37c974d7f8ce6720afbe695bb1a918358aba72c5e1df7efe/costcla-0.6-py3-none-any.whl (4.0MB)\n",
            "\u001b[K     |████████████████████████████████| 4.0MB 6.4MB/s \n",
            "\u001b[?25hRequirement already satisfied: scikit-learn>=0.15.0b2 in /usr/local/lib/python3.7/dist-packages (from costcla) (0.22.2.post1)\n",
            "Requirement already satisfied: numpy>=1.8.0 in /usr/local/lib/python3.7/dist-packages (from costcla) (1.19.5)\n",
            "Requirement already satisfied: pandas>=0.14.0 in /usr/local/lib/python3.7/dist-packages (from costcla) (1.1.5)\n",
            "Collecting pyea>=0.2\n",
            "  Downloading https://files.pythonhosted.org/packages/e0/d1/628c0a358b105f4d3a33f46ac31b18f3ff468cd3402c73f3c0e9d02da025/pyea-0.2.tar.gz\n",
            "Requirement already satisfied: scipy>=0.17.0 in /usr/local/lib/python3.7/dist-packages (from scikit-learn>=0.15.0b2->costcla) (1.4.1)\n",
            "Requirement already satisfied: joblib>=0.11 in /usr/local/lib/python3.7/dist-packages (from scikit-learn>=0.15.0b2->costcla) (1.0.1)\n",
            "Requirement already satisfied: python-dateutil>=2.7.3 in /usr/local/lib/python3.7/dist-packages (from pandas>=0.14.0->costcla) (2.8.1)\n",
            "Requirement already satisfied: pytz>=2017.2 in /usr/local/lib/python3.7/dist-packages (from pandas>=0.14.0->costcla) (2018.9)\n",
            "Requirement already satisfied: six>=1.5 in /usr/local/lib/python3.7/dist-packages (from python-dateutil>=2.7.3->pandas>=0.14.0->costcla) (1.15.0)\n",
            "Building wheels for collected packages: pyea\n",
            "  Building wheel for pyea (setup.py) ... \u001b[?25l\u001b[?25hdone\n",
            "  Created wheel for pyea: filename=pyea-0.2-cp37-none-any.whl size=6017 sha256=ea1864bad8a19c517844a4db32465b4dda1ae1771d5712a653efc4be3cfa3463\n",
            "  Stored in directory: /root/.cache/pip/wheels/3c/bf/6e/06f8b0ed23cbc1fe956f8b6756535cb36f0b68c2f0f2342178\n",
            "Successfully built pyea\n",
            "Installing collected packages: pyea, costcla\n",
            "Successfully installed costcla-0.6 pyea-0.2\n"
          ],
          "name": "stdout"
        }
      ]
    },
    {
      "cell_type": "code",
      "metadata": {
        "id": "RXnWrg2BkpZ4"
      },
      "source": [
        "# We will import the cost-sensitive decision tree, fit it to the training data and then predict on the testing set\n",
        "from costcla.models import CostSensitiveDecisionTreeClassifier\n",
        "y_pred_test_csdt = CostSensitiveDecisionTreeClassifier().fit(x_train, y_train, cost_matrix_train).predict(x_test)"
      ],
      "execution_count": 11,
      "outputs": []
    },
    {
      "cell_type": "code",
      "metadata": {
        "colab": {
          "base_uri": "https://localhost:8080/"
        },
        "id": "c561FUL6lLMJ",
        "outputId": "18ca8d87-5fa0-45a8-db48-2103178778b8"
      },
      "source": [
        "# We will calculate the savings score of the 2 models\n",
        "from costcla.metrics import savings_score\n",
        "\n",
        "print(savings_score(y_test, y_pred_test_dt, cost_matrix_test))\n",
        "print(savings_score(y_test, y_pred_test_csdt, cost_matrix_test))"
      ],
      "execution_count": 12,
      "outputs": [
        {
          "output_type": "stream",
          "text": [
            "0.589451281204447\n",
            "0.6251576934715533\n"
          ],
          "name": "stdout"
        }
      ]
    },
    {
      "cell_type": "markdown",
      "metadata": {
        "id": "GjTj4g6LmWYX"
      },
      "source": [
        "\n",
        "\n",
        "1.   Step 1: Load the data\n",
        "\n",
        "1.   Step 2: we set an administrative cost based on the expected cost of replacing a credit card. We did estimate the business cost of freezing a customer's banking operations until all transactions are verified\n",
        "\n",
        "1.   Step 3. We define the cost matrix based on the parameters which we have defined and it takes into account the administrative cost of replacing a credit card, business interruption from freezing a customer and so on.\n",
        "\n",
        "1.   Step 4 and 5. We split our data into train-test set\n",
        "2.   Step 6 we did instantiate a simple classifier, train it and then use it to predict on the testing set\n",
        "\n",
        "\n",
        "2.   Step 7: We utilize the cost-sensitive random forest model from the costcla library to do the same\n",
        "\n",
        "\n",
        "2.   Step 8: we utilize the savings_score function from costcla to calculate the savings cost of using y_pred on y_true with a cost matrix. The higher the number the larger the cost savings\n",
        "\n",
        "\n",
        "\n"
      ]
    }
  ]
}