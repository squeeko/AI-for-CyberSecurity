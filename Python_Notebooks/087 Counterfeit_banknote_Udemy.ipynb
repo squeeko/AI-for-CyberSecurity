{
  "nbformat": 4,
  "nbformat_minor": 0,
  "metadata": {
    "colab": {
      "name": "Counterfeit banknote Udemy.ipynb",
      "provenance": []
    },
    "kernelspec": {
      "name": "python3",
      "display_name": "Python 3"
    },
    "language_info": {
      "name": "python"
    }
  },
  "cells": [
    {
      "cell_type": "markdown",
      "metadata": {
        "id": "lOEzZq9yqcAL"
      },
      "source": [
        "Couterfeit money is a currency created without the state or government's legal sanction, usually in a deliberate attemp to imitate the currency and to decieve its user.\n",
        "\n",
        "In this project we will train machine learning classifier to distinguish between genuine and fake banke notes"
      ]
    },
    {
      "cell_type": "code",
      "metadata": {
        "colab": {
          "base_uri": "https://localhost:8080/"
        },
        "id": "15b4zqIyppUE",
        "outputId": "de31274f-168c-443f-b906-a5c89e34135a"
      },
      "source": [
        "from google.colab import drive\n",
        "drive.mount('/content/drive')"
      ],
      "execution_count": 1,
      "outputs": [
        {
          "output_type": "stream",
          "text": [
            "Mounted at /content/drive\n"
          ],
          "name": "stdout"
        }
      ]
    },
    {
      "cell_type": "code",
      "metadata": {
        "colab": {
          "base_uri": "https://localhost:8080/"
        },
        "id": "mgnvkGE2pq-8",
        "outputId": "c947e74a-99cf-4c17-c7c9-15c2d7058d8b"
      },
      "source": [
        "%cd /content/drive/My Drive/Colab Notebooks"
      ],
      "execution_count": 2,
      "outputs": [
        {
          "output_type": "stream",
          "text": [
            "/content/drive/My Drive/Colab Notebooks\n"
          ],
          "name": "stdout"
        }
      ]
    },
    {
      "cell_type": "code",
      "metadata": {
        "id": "AoYlO_Rhp6ZP"
      },
      "source": [
        "# Obtain a labeled dataset of authentic and counterfeit bank notes. Read in the bank note dataset using pandas\n",
        "import pandas as pd\n",
        "df = pd.read_csv(\"data_banknote_authentication.txt\", header = None)\n",
        "df.columns = [\"0\",\"1\",\"2\",\"3\",\"label\"]"
      ],
      "execution_count": 3,
      "outputs": []
    },
    {
      "cell_type": "code",
      "metadata": {
        "id": "qp4zk7DFrPCD"
      },
      "source": [
        "# We will create a trian-test split\n",
        "from sklearn.model_selection import train_test_split\n",
        "df_train, df_test = train_test_split(df)"
      ],
      "execution_count": 4,
      "outputs": []
    },
    {
      "cell_type": "code",
      "metadata": {
        "id": "CzrFoGW7raci"
      },
      "source": [
        "# We will collec the features and labels into arrays:\n",
        "y_train = df_train.pop(\"label\").values\n",
        "x_train = df_train.values\n",
        "y_test = df_test.pop(\"label\").values\n",
        "x_test = df_test.values"
      ],
      "execution_count": 5,
      "outputs": []
    },
    {
      "cell_type": "code",
      "metadata": {
        "id": "Jz8Lsbeorxlw"
      },
      "source": [
        "# we will instantiate a random forest classifier\n",
        "from sklearn.ensemble import RandomForestClassifier\n",
        "clf = RandomForestClassifier()"
      ],
      "execution_count": 6,
      "outputs": []
    },
    {
      "cell_type": "code",
      "metadata": {
        "colab": {
          "base_uri": "https://localhost:8080/"
        },
        "id": "H6uwOIKksBOP",
        "outputId": "f2c6ee81-33ca-458c-fd83-9e0d8ce463b7"
      },
      "source": [
        "# We will do the train and test classifier\n",
        "clf.fit(x_train, y_train)\n",
        "print(clf.score(x_test, y_test))"
      ],
      "execution_count": 7,
      "outputs": [
        {
          "output_type": "stream",
          "text": [
            "0.9912536443148688\n"
          ],
          "name": "stdout"
        }
      ]
    },
    {
      "cell_type": "markdown",
      "metadata": {
        "id": "FAGFyUf2sNk4"
      },
      "source": [
        "\n",
        "\n",
        "1.   Step 1 and 2 we did load and read the dataset into pandas. In this case a wavelet transform tool was used to extract features from the images.\n",
        "\n",
        "1.   Step 3 and 4: We train-test split the data and gather it omnto arrays\n",
        "\n",
        "1.   Step 5 and 6: We did fit and test a basic classifier on the dataset\n",
        "\n",
        "\n",
        "The high score indicates that the feautures extracted for this dataset are indeed able to distinguish authentic and counterfeit notes.\n"
      ]
    }
  ]
}