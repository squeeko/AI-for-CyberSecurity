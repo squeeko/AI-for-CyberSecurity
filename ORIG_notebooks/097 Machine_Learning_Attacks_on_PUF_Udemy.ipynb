{
  "nbformat": 4,
  "nbformat_minor": 0,
  "metadata": {
    "colab": {
      "name": "Machine Learning Attacks on PUF Udemy.ipynb",
      "provenance": []
    },
    "kernelspec": {
      "name": "python3",
      "display_name": "Python 3"
    },
    "language_info": {
      "name": "python"
    },
    "accelerator": "GPU"
  },
  "cells": [
    {
      "cell_type": "markdown",
      "metadata": {
        "id": "mETEclxEIZnd"
      },
      "source": [
        "Classical cryptography offers several measures for securing electronic devices. These mainly rely on a secret key and expensive resoruces due to the device permanently storing a piece of digital information that is unknown to our adversaries. In practice, it is difficult to keep this information confidential. This problem motivated the invention of PUF- physical devices that produce an output that is quick t evaluate yet hard to predict.\n",
        "\n",
        "To authenticate using a PUF, we need to construct a database of Challenge-Response Pairs( CRPs). A challenge is that a binary string (for example , 1100101...01) of length n, and a response is ome other binary string of length m. To find out whether an unknown device is the aforementioned PUF, we need to issue it a number of challenges, verifying that it produces the correct responses until we reach teh deriserd probability that it is indeed the same PUF. Note that PUFs themselves are not 100% reliable and the same challenge may yield different responses due to varying environmental conditions and noise.\n",
        "\n",
        "In this project we will be attacking a specific PUF using ML. Note that the field is evolving and other more secure, PUFs have been proposed as well as methods to increase the reliability and security of PUFs using ML."
      ]
    },
    {
      "cell_type": "code",
      "metadata": {
        "colab": {
          "base_uri": "https://localhost:8080/"
        },
        "id": "RDF-w18ZHkx8",
        "outputId": "48d0cd0f-dc0a-41a5-9443-98b52c49d6a5"
      },
      "source": [
        "from google.colab import drive\n",
        "drive.mount('/content/drive')"
      ],
      "execution_count": 1,
      "outputs": [
        {
          "output_type": "stream",
          "text": [
            "Mounted at /content/drive\n"
          ],
          "name": "stdout"
        }
      ]
    },
    {
      "cell_type": "code",
      "metadata": {
        "colab": {
          "base_uri": "https://localhost:8080/"
        },
        "id": "kXEmgGFKHy8q",
        "outputId": "c48db89f-60d7-4b7a-9f87-3a2414977861"
      },
      "source": [
        "%cd /content/drive/My Drive/Colab Notebooks"
      ],
      "execution_count": 2,
      "outputs": [
        {
          "output_type": "stream",
          "text": [
            "/content/drive/My Drive/Colab Notebooks\n"
          ],
          "name": "stdout"
        }
      ]
    },
    {
      "cell_type": "code",
      "metadata": {
        "id": "m93TFT3tKPT4"
      },
      "source": [
        "import pandas as pd\n",
        "df  = pd.read_csv(\"CRPdataset.csv\")"
      ],
      "execution_count": 3,
      "outputs": []
    },
    {
      "cell_type": "markdown",
      "metadata": {
        "id": "kFBg3yWXKaqu"
      },
      "source": [
        "The data is made up of paris (x,y) where x is a binrary string that is 64 in length and y is a binary digit. Here x is a challenge and y is a response"
      ]
    },
    {
      "cell_type": "code",
      "metadata": {
        "id": "Z7ARuqF1Kmts"
      },
      "source": [
        "# We need to convert the pandas dataframe into a Numpy array of features and labels\n",
        "y = df.pop(\"Label\").values\n",
        "X = df.values"
      ],
      "execution_count": 4,
      "outputs": []
    },
    {
      "cell_type": "code",
      "metadata": {
        "id": "LSmHNWWWK0GL"
      },
      "source": [
        "# We will perform a train-test split\n",
        "from sklearn.model_selection import train_test_split\n",
        "X_train, X_Test, y_train, y_test = train_test_split(X, y, test_size = 0.25, random_state = 11)"
      ],
      "execution_count": 5,
      "outputs": []
    },
    {
      "cell_type": "code",
      "metadata": {
        "colab": {
          "base_uri": "https://localhost:8080/"
        },
        "id": "XZX15sdOLJrA",
        "outputId": "f221d8ba-25eb-408a-e3fd-7bae78aa874a"
      },
      "source": [
        "# We need to instantiate and train an XGBoost classifier\n",
        "from xgboost import XGBClassifier\n",
        "clf = XGBClassifier()\n",
        "clf.fit(X_train, y_train)\n",
        "print(clf.score(X_train, y_train))"
      ],
      "execution_count": 6,
      "outputs": [
        {
          "output_type": "stream",
          "text": [
            "0.6493333333333333\n"
          ],
          "name": "stdout"
        }
      ]
    },
    {
      "cell_type": "code",
      "metadata": {
        "colab": {
          "base_uri": "https://localhost:8080/"
        },
        "id": "HUYhHb07Laa9",
        "outputId": "0a3a6e3d-a11b-4ef3-cafc-f30e2e52929e"
      },
      "source": [
        "# Test the classifier\n",
        "clf.score(X_Test, y_test)"
      ],
      "execution_count": 7,
      "outputs": [
        {
          "output_type": "execute_result",
          "data": {
            "text/plain": [
              "0.6126666666666667"
            ]
          },
          "metadata": {
            "tags": []
          },
          "execution_count": 7
        }
      ]
    }
  ]
}