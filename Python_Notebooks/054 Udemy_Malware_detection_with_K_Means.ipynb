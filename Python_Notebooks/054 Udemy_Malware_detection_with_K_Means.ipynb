{
  "nbformat": 4,
  "nbformat_minor": 0,
  "metadata": {
    "colab": {
      "name": "Udemy Malware detection with K-Means.ipynb",
      "provenance": []
    },
    "kernelspec": {
      "name": "python3",
      "display_name": "Python 3"
    },
    "language_info": {
      "name": "python"
    }
  },
  "cells": [
    {
      "cell_type": "code",
      "metadata": {
        "colab": {
          "base_uri": "https://localhost:8080/"
        },
        "id": "Me0uMxHP_y1a",
        "outputId": "84e1a465-8011-4c72-9f24-79027d213659"
      },
      "source": [
        "from google.colab import drive\n",
        "drive.mount('/content/drive')"
      ],
      "execution_count": 1,
      "outputs": [
        {
          "output_type": "stream",
          "text": [
            "Mounted at /content/drive\n"
          ],
          "name": "stdout"
        }
      ]
    },
    {
      "cell_type": "code",
      "metadata": {
        "colab": {
          "base_uri": "https://localhost:8080/"
        },
        "id": "_JIbFPwk_6zV",
        "outputId": "76e21a0a-7e0e-463c-ddb8-07e782767728"
      },
      "source": [
        "%cd /content/drive/My Drive/Colab Notebooks"
      ],
      "execution_count": 2,
      "outputs": [
        {
          "output_type": "stream",
          "text": [
            "/content/drive/My Drive/Colab Notebooks\n"
          ],
          "name": "stdout"
        }
      ]
    },
    {
      "cell_type": "code",
      "metadata": {
        "id": "BUTFBYKgAsSV"
      },
      "source": [
        "import pandas as pd\n",
        "import numpy as np\n",
        "import matplotlib.pyplot as plt\n",
        "\n",
        "from sklearn.cluster import KMeans\n",
        "from sklearn.metrics import silhouette_score\n"
      ],
      "execution_count": 3,
      "outputs": []
    },
    {
      "cell_type": "code",
      "metadata": {
        "id": "ykmjXu5-A6FH"
      },
      "source": [
        "malware_dataset = pd.read_csv(\"datasets1/MalwareArtifacts.csv\", delimiter=',')"
      ],
      "execution_count": 4,
      "outputs": []
    },
    {
      "cell_type": "code",
      "metadata": {
        "id": "-kbytUCHA8j6"
      },
      "source": [
        "# Extracting artifacts smaples fields # MajourLinkerVersion, MajorImageVersion, MajorOperatingSystemVersion,DllCharacteristics\n",
        "samples = malware_dataset.iloc[:, [1,2,3,4]].values\n",
        "targets = malware_dataset.iloc[:, 8].values"
      ],
      "execution_count": 5,
      "outputs": []
    },
    {
      "cell_type": "code",
      "metadata": {
        "colab": {
          "base_uri": "https://localhost:8080/"
        },
        "id": "jXBwP8eLBijT",
        "outputId": "f03022bb-020b-4227-a407-c9199da4f747"
      },
      "source": [
        "k_means = KMeans(n_clusters=2, max_iter=300)\n",
        "k_means.fit(samples)"
      ],
      "execution_count": 6,
      "outputs": [
        {
          "output_type": "execute_result",
          "data": {
            "text/plain": [
              "KMeans(algorithm='auto', copy_x=True, init='k-means++', max_iter=300,\n",
              "       n_clusters=2, n_init=10, n_jobs=None, precompute_distances='auto',\n",
              "       random_state=None, tol=0.0001, verbose=0)"
            ]
          },
          "metadata": {
            "tags": []
          },
          "execution_count": 6
        }
      ]
    },
    {
      "cell_type": "code",
      "metadata": {
        "colab": {
          "base_uri": "https://localhost:8080/"
        },
        "id": "nWi4BxSTDGDQ",
        "outputId": "2485d298-eeb0-4906-c0ec-c6f91baec6f1"
      },
      "source": [
        "print(\"K-Means labels: \" + str(k_means.labels_))\n",
        "print(\"\\n K-means clustering reulsts \\n\\n\", pd.crosstab(targets, k_means.labels_, rownames = [\"Observerd\"], colnames=[\"Predicted\"]))\n",
        "print (\"\\nSilhouette coefficient: %0.3f\" % silhouette_score(samples, k_means.labels_, metric='euclidean')) "
      ],
      "execution_count": 8,
      "outputs": [
        {
          "output_type": "stream",
          "text": [
            "K-Means labels: [0 0 0 ... 0 1 0]\n",
            "\n",
            " K-means clustering reulsts \n",
            "\n",
            " Predicted      0      1\n",
            "Observerd              \n",
            "0          83419  13107\n",
            "1           7995  32923\n",
            "\n",
            "Silhouette coefficient: 0.975\n"
          ],
          "name": "stdout"
        }
      ]
    }
  ]
}