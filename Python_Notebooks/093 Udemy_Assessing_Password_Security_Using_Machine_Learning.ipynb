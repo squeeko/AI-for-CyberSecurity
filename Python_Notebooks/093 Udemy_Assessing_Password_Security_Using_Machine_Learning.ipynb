{
  "nbformat": 4,
  "nbformat_minor": 0,
  "metadata": {
    "colab": {
      "name": "Udemy Assessing Password Security Using Machine Learning.ipynb",
      "provenance": []
    },
    "kernelspec": {
      "name": "python3",
      "display_name": "Python 3"
    },
    "language_info": {
      "name": "python"
    }
  },
  "cells": [
    {
      "cell_type": "markdown",
      "metadata": {
        "id": "Slhy0wTo1s71"
      },
      "source": [
        "Password cracking is the systematic endeavor of discovering the password of a secure system. Cracking can involve using common passwords, clearly generated candiate passords (for example, replacing the letter O with the number 0 or writing a word backward), or just using a plain bruteforce exhaustive search . To make it more difficult to crack a password."
      ]
    },
    {
      "cell_type": "code",
      "metadata": {
        "colab": {
          "base_uri": "https://localhost:8080/"
        },
        "id": "oYuXupWi0WPC",
        "outputId": "9cff9ae1-9e2d-4481-d90e-d23f59ca176d"
      },
      "source": [
        "from google.colab import drive\n",
        "drive.mount('/content/drive')"
      ],
      "execution_count": 10,
      "outputs": [
        {
          "output_type": "stream",
          "text": [
            "Drive already mounted at /content/drive; to attempt to forcibly remount, call drive.mount(\"/content/drive\", force_remount=True).\n"
          ],
          "name": "stdout"
        }
      ]
    },
    {
      "cell_type": "code",
      "metadata": {
        "colab": {
          "base_uri": "https://localhost:8080/"
        },
        "id": "ZwL4SMmX0beR",
        "outputId": "895c9ceb-ff2c-4b2f-a799-a52d34633775"
      },
      "source": [
        "%cd /content/drive/My Drive/Colab Notebooks"
      ],
      "execution_count": 11,
      "outputs": [
        {
          "output_type": "stream",
          "text": [
            "/content/drive/My Drive/Colab Notebooks\n"
          ],
          "name": "stdout"
        }
      ]
    },
    {
      "cell_type": "code",
      "metadata": {
        "id": "J_qSaL1r2M20"
      },
      "source": [
        "# import pandas and read in the passwords into a dataframe\n",
        "import pandas as pd\n",
        "\n",
        "df = pd.read_csv(\n",
        "    \"passwordDataset.csv\", dtype={\"password\": \"str\", \"strength\": \"int\"}, index_col=None\n",
        ")"
      ],
      "execution_count": 12,
      "outputs": []
    },
    {
      "cell_type": "code",
      "metadata": {
        "colab": {
          "base_uri": "https://localhost:8080/",
          "height": 402
        },
        "id": "-yYzJl4b4oe4",
        "outputId": "1444fba7-9acc-4766-ed0c-cbef9442a2ef"
      },
      "source": [
        "df"
      ],
      "execution_count": 13,
      "outputs": [
        {
          "output_type": "execute_result",
          "data": {
            "text/html": [
              "<div>\n",
              "<style scoped>\n",
              "    .dataframe tbody tr th:only-of-type {\n",
              "        vertical-align: middle;\n",
              "    }\n",
              "\n",
              "    .dataframe tbody tr th {\n",
              "        vertical-align: top;\n",
              "    }\n",
              "\n",
              "    .dataframe thead th {\n",
              "        text-align: right;\n",
              "    }\n",
              "</style>\n",
              "<table border=\"1\" class=\"dataframe\">\n",
              "  <thead>\n",
              "    <tr style=\"text-align: right;\">\n",
              "      <th></th>\n",
              "      <th>password</th>\n",
              "      <th>strength</th>\n",
              "    </tr>\n",
              "  </thead>\n",
              "  <tbody>\n",
              "    <tr>\n",
              "      <th>0</th>\n",
              "      <td>kzde5577</td>\n",
              "      <td>1</td>\n",
              "    </tr>\n",
              "    <tr>\n",
              "      <th>1</th>\n",
              "      <td>kino3434</td>\n",
              "      <td>1</td>\n",
              "    </tr>\n",
              "    <tr>\n",
              "      <th>2</th>\n",
              "      <td>visi7k1yr</td>\n",
              "      <td>1</td>\n",
              "    </tr>\n",
              "    <tr>\n",
              "      <th>3</th>\n",
              "      <td>megzy123</td>\n",
              "      <td>1</td>\n",
              "    </tr>\n",
              "    <tr>\n",
              "      <th>4</th>\n",
              "      <td>lamborghin1</td>\n",
              "      <td>1</td>\n",
              "    </tr>\n",
              "    <tr>\n",
              "      <th>...</th>\n",
              "      <td>...</td>\n",
              "      <td>...</td>\n",
              "    </tr>\n",
              "    <tr>\n",
              "      <th>669634</th>\n",
              "      <td>10redtux10</td>\n",
              "      <td>1</td>\n",
              "    </tr>\n",
              "    <tr>\n",
              "      <th>669635</th>\n",
              "      <td>infrared1</td>\n",
              "      <td>1</td>\n",
              "    </tr>\n",
              "    <tr>\n",
              "      <th>669636</th>\n",
              "      <td>184520socram</td>\n",
              "      <td>1</td>\n",
              "    </tr>\n",
              "    <tr>\n",
              "      <th>669637</th>\n",
              "      <td>marken22a</td>\n",
              "      <td>1</td>\n",
              "    </tr>\n",
              "    <tr>\n",
              "      <th>669638</th>\n",
              "      <td>fxx4pw4g</td>\n",
              "      <td>1</td>\n",
              "    </tr>\n",
              "  </tbody>\n",
              "</table>\n",
              "<p>669639 rows × 2 columns</p>\n",
              "</div>"
            ],
            "text/plain": [
              "            password  strength\n",
              "0           kzde5577         1\n",
              "1           kino3434         1\n",
              "2          visi7k1yr         1\n",
              "3           megzy123         1\n",
              "4        lamborghin1         1\n",
              "...              ...       ...\n",
              "669634    10redtux10         1\n",
              "669635     infrared1         1\n",
              "669636  184520socram         1\n",
              "669637     marken22a         1\n",
              "669638      fxx4pw4g         1\n",
              "\n",
              "[669639 rows x 2 columns]"
            ]
          },
          "metadata": {
            "tags": []
          },
          "execution_count": 13
        }
      ]
    },
    {
      "cell_type": "code",
      "metadata": {
        "id": "AfPjjBkg2l46"
      },
      "source": [
        "# Shuffle the data at random:\n",
        "df = df.sample(frac=1)"
      ],
      "execution_count": 14,
      "outputs": []
    },
    {
      "cell_type": "code",
      "metadata": {
        "id": "l5Tfl4Nm2r55"
      },
      "source": [
        "# We need to split the dataframe into 2 seperate dataframes, one for training and one for testing\n",
        "l = len(df.index)\n",
        "train_df = df.head(int(l * 0.8))\n",
        "test_df = df.tail(int(l * 0.2))"
      ],
      "execution_count": 15,
      "outputs": []
    },
    {
      "cell_type": "code",
      "metadata": {
        "id": "eHbBvHbu29bS"
      },
      "source": [
        "# We need to create the required labels and featured data\n",
        "y_train = train_df.pop(\"strength\").values\n",
        "y_test = test_df.pop(\"strength\").values\n",
        "X_train = train_df.values.flatten()\n",
        "X_test = test_df.values.flatten()"
      ],
      "execution_count": 16,
      "outputs": []
    },
    {
      "cell_type": "code",
      "metadata": {
        "id": "6egShQOg3TqB"
      },
      "source": [
        "# We need to define a function that splits a string into its characters\n",
        "def character_tokens(input_string):\n",
        "    \"\"\"Break string into characters.\"\"\"\n",
        "    return [x for x in input_string]"
      ],
      "execution_count": 17,
      "outputs": []
    },
    {
      "cell_type": "code",
      "metadata": {
        "id": "kckA7jOc3lOi"
      },
      "source": [
        "# We need to create a pipline to perform TF-IDF on the characters of the passwords followed by gradient boosting\n",
        "from sklearn.pipeline import Pipeline\n",
        "from sklearn.feature_extraction.text import TfidfVectorizer\n",
        "from xgboost import XGBClassifier\n",
        "\n",
        "password_clf = Pipeline(\n",
        "    [(\"vect\", TfidfVectorizer(tokenizer=character_tokens)), (\"clf\", XGBClassifier()),]\n",
        ")"
      ],
      "execution_count": 18,
      "outputs": []
    },
    {
      "cell_type": "code",
      "metadata": {
        "colab": {
          "base_uri": "https://localhost:8080/"
        },
        "id": "bL8Yq52x4Qop",
        "outputId": "7c530b12-d3d8-44d8-a404-f459e843607a"
      },
      "source": [
        "password_clf.fit(X_train, y_train)\n",
        "password_clf.score(X_test, y_test)"
      ],
      "execution_count": 19,
      "outputs": [
        {
          "output_type": "execute_result",
          "data": {
            "text/plain": [
              "0.9137141875798009"
            ]
          },
          "metadata": {
            "tags": []
          },
          "execution_count": 19
        }
      ]
    },
    {
      "cell_type": "code",
      "metadata": {
        "id": "FWmQ2otr565A"
      },
      "source": [
        "# Set one variable as a comnonly used password and one as a computer generated, high entropy password\n",
        "common_password = \"qwerty\"\n",
        "strong_computer_generated_password = \"c9lCwLBFmdLbG6iWla4H\""
      ],
      "execution_count": 20,
      "outputs": []
    },
    {
      "cell_type": "code",
      "metadata": {
        "colab": {
          "base_uri": "https://localhost:8080/"
        },
        "id": "G0CSYJ2M6xbZ",
        "outputId": "c2290ae3-d093-4f1f-f087-a96e6c9d20f1"
      },
      "source": [
        "# Check what the classifier predicts for the strenght of the 2 passwords\n",
        "password_clf.predict([common_password,strong_computer_generated_password])"
      ],
      "execution_count": 21,
      "outputs": [
        {
          "output_type": "execute_result",
          "data": {
            "text/plain": [
              "array([0, 2])"
            ]
          },
          "metadata": {
            "tags": []
          },
          "execution_count": 21
        }
      ]
    },
    {
      "cell_type": "markdown",
      "metadata": {
        "id": "3B1hJ2Wb7AV3"
      },
      "source": [
        "\n",
        "\n",
        "*   Step 1: we need to read our data into a dataframe. There are two fields in this data: password and password strength. Password strength consists of 3 levels of difficulty.\n",
        "\n",
        "*   Step 2: We will shuffle the data to create a more robust training\n",
        "\n",
        "*   Step 3: We split the dataframe 80-20 split \n",
        "*   Step 4: We distribute the features and labels into arrays\n",
        "*   Step 5: We define a function that splits the password strings into characters  in order to tokenize passwords into characters rather than words. This will allow the classifier to learn fine-grained information about the password dataset\n",
        "\n",
        "*   Step 6: we will define a pipline to perform NLP on the characters of a password, followed by using an XGBoost classifier\n",
        "\n",
        "\n",
        "*   Step 7. We train and test our classifier\n",
        "\n",
        "\n",
        "*   Step 8: We choose one of the most common passwords and one that was generated by using a password management system.\n",
        "\n",
        "\n",
        "*   Step 9: We can see that the classifier indeed classified the common password as eak (strength 0) and the strong password as strong (strength 2)\n",
        "\n",
        "\n",
        "\n"
      ]
    }
  ]
}