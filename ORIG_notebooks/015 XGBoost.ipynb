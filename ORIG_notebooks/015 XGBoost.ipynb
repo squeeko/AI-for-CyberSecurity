{
  "nbformat": 4,
  "nbformat_minor": 0,
  "metadata": {
    "colab": {
      "name": "XGBoost.ipynb",
      "provenance": []
    },
    "kernelspec": {
      "name": "python3",
      "display_name": "Python 3"
    },
    "language_info": {
      "name": "python"
    }
  },
  "cells": [
    {
      "cell_type": "markdown",
      "metadata": {
        "id": "ETZSrbosA1Wm"
      },
      "source": [
        "Gradient boosting is widely considered the most reliable and accuracy algorithm for genertic machine learning problems"
      ]
    },
    {
      "cell_type": "code",
      "metadata": {
        "colab": {
          "base_uri": "https://localhost:8080/"
        },
        "id": "C1NQEPoMATWS",
        "outputId": "7265d965-a32c-4b5a-bf9d-a74fca8d1d3f"
      },
      "source": [
        "from google.colab import drive\n",
        "drive.mount('/content/drive')"
      ],
      "execution_count": 1,
      "outputs": [
        {
          "output_type": "stream",
          "text": [
            "Mounted at /content/drive\n"
          ],
          "name": "stdout"
        }
      ]
    },
    {
      "cell_type": "code",
      "metadata": {
        "colab": {
          "base_uri": "https://localhost:8080/"
        },
        "id": "6f0fKqrUAWLk",
        "outputId": "29709077-4653-4982-b142-d6a0bd0fb6d9"
      },
      "source": [
        "%cd /content/drive/My Drive/Colab Notebooks"
      ],
      "execution_count": 2,
      "outputs": [
        {
          "output_type": "stream",
          "text": [
            "/content/drive/My Drive/Colab Notebooks\n"
          ],
          "name": "stdout"
        }
      ]
    },
    {
      "cell_type": "code",
      "metadata": {
        "id": "-cmcJBWeAZUo"
      },
      "source": [
        "import pandas as pd"
      ],
      "execution_count": 3,
      "outputs": []
    },
    {
      "cell_type": "code",
      "metadata": {
        "id": "lUByVpm9AavK"
      },
      "source": [
        "df = pd.read_csv(\"file_pe_headers.csv\", sep=\",\")"
      ],
      "execution_count": 4,
      "outputs": []
    },
    {
      "cell_type": "code",
      "metadata": {
        "id": "UOoiLuhNBH-n"
      },
      "source": [
        "y = df[\"Malware\"]\n",
        "x = df.drop([\"Name\",\"Malware\"], axis=1).to_numpy()"
      ],
      "execution_count": 5,
      "outputs": []
    },
    {
      "cell_type": "code",
      "metadata": {
        "id": "v78de3msBTuK"
      },
      "source": [
        "# Split the train and test set\n",
        "from sklearn.model_selection import train_test_split\n",
        "x_train, x_test,y_train,y_test =train_test_split(x,y,test_size=0.3)"
      ],
      "execution_count": 6,
      "outputs": []
    },
    {
      "cell_type": "code",
      "metadata": {
        "colab": {
          "base_uri": "https://localhost:8080/"
        },
        "id": "yl__c28eBjS9",
        "outputId": "4325d083-29bc-4866-90f9-c3fc9a63d700"
      },
      "source": [
        "# Create one instance of an XGBoost and train it on the training set:\n",
        "from xgboost import XGBClassifier\n",
        "XGB_model_instance = XGBClassifier()\n",
        "XGB_model_instance.fit(x_train, y_train)"
      ],
      "execution_count": 7,
      "outputs": [
        {
          "output_type": "execute_result",
          "data": {
            "text/plain": [
              "XGBClassifier(base_score=0.5, booster='gbtree', colsample_bylevel=1,\n",
              "              colsample_bynode=1, colsample_bytree=1, gamma=0,\n",
              "              learning_rate=0.1, max_delta_step=0, max_depth=3,\n",
              "              min_child_weight=1, missing=None, n_estimators=100, n_jobs=1,\n",
              "              nthread=None, objective='binary:logistic', random_state=0,\n",
              "              reg_alpha=0, reg_lambda=1, scale_pos_weight=1, seed=None,\n",
              "              silent=None, subsample=1, verbosity=1)"
            ]
          },
          "metadata": {
            "tags": []
          },
          "execution_count": 7
        }
      ]
    },
    {
      "cell_type": "code",
      "metadata": {
        "colab": {
          "base_uri": "https://localhost:8080/"
        },
        "id": "l-VqDttzB1lq",
        "outputId": "64054eaa-1ba0-4210-f2be-391c38ef390a"
      },
      "source": [
        "# Assess its performance on the testing set\n",
        "from sklearn.metrics import accuracy_score\n",
        "y_test_pred = XGB_model_instance.predict(x_test)\n",
        "accuracy= accuracy_score(y_test, y_test_pred)\n",
        "print(\"Accuracy: %.2f%%\" % (accuracy*100))"
      ],
      "execution_count": 8,
      "outputs": [
        {
          "output_type": "stream",
          "text": [
            "Accuracy: 98.93%\n"
          ],
          "name": "stdout"
        }
      ]
    },
    {
      "cell_type": "markdown",
      "metadata": {
        "id": "Lec1O-kYCU4u"
      },
      "source": [
        "\n",
        "\n",
        "1.   Step 1: reading our dataset.\n",
        "\n",
        "1.   Step 2: create a train-test split.\n",
        "2.   Step 3: we proceed to instantiate an XGBoost classifier with defeault parameters and fit it to our training set.\n",
        "\n",
        "\n",
        "2.   Step 4: we use our XGBoost classifier to predict on the testing set. We then produce the measured accuracy of our XGBoost model's predictions.\n",
        "\n",
        "\n"
      ]
    }
  ]
}